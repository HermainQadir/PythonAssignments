{
 "cells": [
  {
   "cell_type": "code",
   "execution_count": 1,
   "id": "969aa566",
   "metadata": {},
   "outputs": [
    {
     "name": "stdout",
     "output_type": "stream",
     "text": [
      "Welcome to Python Calculator\n",
      "1. Addition\n",
      "2. Subtraction\n",
      "3. Multiplication\n",
      "4. Division\n",
      "5. Power\n",
      "Enter the number of respective operation that you want to perform (for eg: '1') : 1\n",
      "Enter first number : 2\n",
      "Enter second number : 4\n",
      "Result =  6.0\n"
     ]
    }
   ],
   "source": [
    "print(\"Welcome to Python Calculator\")\n",
    "print(\"1. Addition\")\n",
    "print(\"2. Subtraction\")\n",
    "print(\"3. Multiplication\")\n",
    "print(\"4. Division\")\n",
    "print(\"5. Power\")\n",
    "ch = int(input(\"Enter the number of respective operation that you want to perform (for eg: '1') : \"))\n",
    "if (ch >= 1 and ch <=4):\n",
    "    num1 = float(input(\"Enter first number : \"))\n",
    "    num2 = float(input(\"Enter second number : \"))\n",
    "    if ch == 1:\n",
    "        res = num1 + num2\n",
    "        \n",
    "    elif ch == 2:\n",
    "        res = num1 - num2\n",
    "        \n",
    "    elif ch == 3:\n",
    "        res = num1 * num2\n",
    "        \n",
    "    elif ch == 4:\n",
    "        while num2 == 0:\n",
    "            print(\"Error denominator cannot be 0\")\n",
    "            num2 = float(input(\"Enter a new denominator : \"))\n",
    "            \n",
    "        res = num1 / num2;\n",
    "        \n",
    "    print(\"Result = \",res)\n",
    "    \n",
    "elif ch == 5:\n",
    "    b = float(input(\"Enter base : \"))\n",
    "    ex = int(input(\"Enter power : \"))\n",
    "    res = pow(b,ex)\n",
    "    print(\"Result = \",res)\n",
    "    \n",
    "else:\n",
    "    print(\"Invalid number\");"
   ]
  },
  {
   "cell_type": "code",
   "execution_count": 3,
   "id": "f0726f85",
   "metadata": {},
   "outputs": [
    {
     "name": "stdout",
     "output_type": "stream",
     "text": [
      "Numeric value exists in the list\n"
     ]
    }
   ],
   "source": [
    "ch = 0\n",
    "lst = ['Hermain','Qadir',21]\n",
    "for item in lst:\n",
    "    if (type(item) is int) or (type(item) is float):\n",
    "        ch = 1;\n",
    "        break;\n",
    "      \n",
    "    \n",
    "if ch == 1:\n",
    "    print(\"Numeric value exists in the list\")\n",
    "    \n",
    "else:\n",
    "    print(\"No numeric value exist in the list\")"
   ]
  },
  {
   "cell_type": "code",
   "execution_count": 4,
   "id": "04a7ea8c",
   "metadata": {},
   "outputs": [
    {
     "name": "stdout",
     "output_type": "stream",
     "text": [
      "{'first_name': 'Hermain', 'last_name': 'Qadir'}\n",
      "{'first_name': 'Hermain', 'last_name': 'Qadir', 'age': 21}\n"
     ]
    }
   ],
   "source": [
    "dic = {'first_name' : 'Hermain', 'last_name' : 'Qadir'}\n",
    "print(dic)\n",
    "dic.update({'age':21})\n",
    "print(dic)"
   ]
  },
  {
   "cell_type": "code",
   "execution_count": 5,
   "id": "a385ea2c",
   "metadata": {},
   "outputs": [
    {
     "name": "stdout",
     "output_type": "stream",
     "text": [
      "Sum is =  10.2\n"
     ]
    }
   ],
   "source": [
    "dic = {'val1' : 1, 'val2' : 2.2, 'val3' : 3,'val4' : 4, 'val5' : 'hermain'}\n",
    "res = 0\n",
    "for i in dic:\n",
    "    if (type(dic[i]) is int) or (type(dic[i]) is float):\n",
    "         res = res + dic[i];\n",
    "\n",
    "print(\"Sum is = \", res)"
   ]
  },
  {
   "cell_type": "code",
   "execution_count": 6,
   "id": "d5c3c38c",
   "metadata": {},
   "outputs": [
    {
     "name": "stdout",
     "output_type": "stream",
     "text": [
      "Duplicate values are in the list are: \n",
      "1\n",
      "2\n",
      "3\n"
     ]
    }
   ],
   "source": [
    "list1 = [1,2,3,1,4,5,2,6,7,3]\n",
    "list2 = []\n",
    "print(\"Duplicate values are in the list are: \")\n",
    "for i in list1:\n",
    "    if i not in list2:\n",
    "        list2.append(i)\n",
    "    else:\n",
    "        print(i)"
   ]
  },
  {
   "cell_type": "code",
   "execution_count": 7,
   "id": "52b7634b",
   "metadata": {},
   "outputs": [
    {
     "name": "stdout",
     "output_type": "stream",
     "text": [
      "Enter the key whose existance you want to check : 6\n",
      "Key is not present in the dictionary.\n"
     ]
    }
   ],
   "source": [
    "dic = {1:'val1', 5:'val2', 8:'val3'}\n",
    "x = int(input('Enter the key whose existance you want to check : '))\n",
    "if x in dic:\n",
    "    print('Key is present in the dictionary.')\n",
    "else:\n",
    "    print('Key is not present in the dictionary.')"
   ]
  }
 ],
 "metadata": {
  "kernelspec": {
   "display_name": "Python 3",
   "language": "python",
   "name": "python3"
  },
  "language_info": {
   "codemirror_mode": {
    "name": "ipython",
    "version": 3
   },
   "file_extension": ".py",
   "mimetype": "text/x-python",
   "name": "python",
   "nbconvert_exporter": "python",
   "pygments_lexer": "ipython3",
   "version": "3.8.8"
  }
 },
 "nbformat": 4,
 "nbformat_minor": 5
}
